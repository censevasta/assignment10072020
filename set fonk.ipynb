{
 "cells": [
  {
   "cell_type": "code",
   "execution_count": 12,
   "metadata": {
    "tags": []
   },
   "outputs": [
    {
     "output_type": "stream",
     "name": "stdout",
     "text": "{'l', 'u', 'n', 'o', 't', ' ', 'p', 's', 'e', 'w', 'v'}\n{'l', 'u', 'n', 'o', 't', ' ', 'p', 's', 'e', 'w', 'v'}\nWe are the same!\n"
    }
   ],
   "source": [
    "a = set(\"twelve plus one\")\n",
    "b = set(\"eleven plus two\")\n",
    "print(a) \n",
    "print(b)\n",
    "a == b\n",
    "if a == b:\n",
    "    print(\"We are the same!\")"
   ]
  },
  {
   "cell_type": "code",
   "execution_count": null,
   "metadata": {},
   "outputs": [],
   "source": []
  }
 ],
 "metadata": {
  "language_info": {
   "codemirror_mode": {
    "name": "ipython",
    "version": 3
   },
   "file_extension": ".py",
   "mimetype": "text/x-python",
   "name": "python",
   "nbconvert_exporter": "python",
   "pygments_lexer": "ipython3",
   "version": "3.8.3-final"
  },
  "orig_nbformat": 2,
  "kernelspec": {
   "name": "python38364bitd470498e0cb44cdd9c37783cd6d86625",
   "display_name": "Python 3.8.3 64-bit"
  }
 },
 "nbformat": 4,
 "nbformat_minor": 2
}