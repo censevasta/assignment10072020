{
 "cells": [
  {
   "cell_type": "code",
   "execution_count": 1,
   "metadata": {},
   "outputs": [
    {
     "output_type": "execute_result",
     "data": {
      "text/plain": "'Sam has 12 red balls and 31 yellow balls'"
     },
     "metadata": {},
     "execution_count": 1
    }
   ],
   "source": [
    "'Sam has {0} red balls and {1} yellow balls'.format(12, 31)"
   ]
  },
  {
   "cell_type": "code",
   "execution_count": 2,
   "metadata": {},
   "outputs": [
    {
     "output_type": "execute_result",
     "data": {
      "text/plain": "'Floating point 345.79'"
     },
     "metadata": {},
     "execution_count": 2
    }
   ],
   "source": [
    "\"Floating point {0:.2f}\".format(345.7916732)"
   ]
  },
  {
   "cell_type": "code",
   "execution_count": 3,
   "metadata": {},
   "outputs": [
    {
     "output_type": "execute_result",
     "data": {
      "text/plain": "'Floating point      3.142'"
     },
     "metadata": {},
     "execution_count": 3
    }
   ],
   "source": [
    "import math\n",
    ">>> \"Floating point {0:10.3f}\".format(math.pi)\n"
   ]
  },
  {
   "cell_type": "code",
   "execution_count": 4,
   "metadata": {},
   "outputs": [
    {
     "output_type": "execute_result",
     "data": {
      "text/plain": "'Floating point pi = 3.142, with 3 digit precision'"
     },
     "metadata": {},
     "execution_count": 4
    }
   ],
   "source": [
    "\"Floating point pi = {0:.3f}, with {1:d} digit precision\".format(math.pi, 3)"
   ]
  },
  {
   "cell_type": "code",
   "execution_count": null,
   "metadata": {},
   "outputs": [],
   "source": []
  }
 ],
 "metadata": {
  "language_info": {
   "codemirror_mode": {
    "name": "ipython",
    "version": 3
   },
   "file_extension": ".py",
   "mimetype": "text/x-python",
   "name": "python",
   "nbconvert_exporter": "python",
   "pygments_lexer": "ipython3",
   "version": "3.8.3-final"
  },
  "orig_nbformat": 2,
  "kernelspec": {
   "name": "python38364bitd470498e0cb44cdd9c37783cd6d86625",
   "display_name": "Python 3.8.3 64-bit"
  }
 },
 "nbformat": 4,
 "nbformat_minor": 2
}