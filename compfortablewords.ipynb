{
 "cells": [
  {
   "cell_type": "code",
   "execution_count": 7,
   "metadata": {},
   "outputs": [],
   "source": [
    "left = {\"q\", \"w\", \"e\", \"r\", \"t\", \"a\", \"s\", \"d\", \"f\", \"g\", \"z\", \"x\", \"c\", \"v\", \"b\"}\n",
    "\n",
    "right = {\"y\", \"u\", \"i\", \"o\", \"p\", \"h\", \"j\", \"k\", \"l\", \"n\", \"m\"}\n",
    "\n"
   ]
  },
  {
   "cell_type": "code",
   "execution_count": 8,
   "metadata": {},
   "outputs": [],
   "source": [
    "word = \"bugün benim doğum günüm\""
   ]
  },
  {
   "cell_type": "code",
   "execution_count": 9,
   "metadata": {},
   "outputs": [],
   "source": [
    "set_word = set(word)"
   ]
  },
  {
   "cell_type": "code",
   "execution_count": 10,
   "metadata": {},
   "outputs": [
    {
     "output_type": "execute_result",
     "data": {
      "text/plain": "{' ', 'b', 'd', 'e', 'g', 'i', 'm', 'n', 'o', 'u', 'ü', 'ğ'}"
     },
     "metadata": {},
     "execution_count": 10
    }
   ],
   "source": [
    "set_word"
   ]
  },
  {
   "cell_type": "code",
   "execution_count": 11,
   "metadata": {},
   "outputs": [],
   "source": [
    "left_bool = bool(set_word.difference(left))\n",
    "right_bool = bool(set_word.difference(right))"
   ]
  },
  {
   "cell_type": "code",
   "execution_count": 12,
   "metadata": {
    "tags": []
   },
   "outputs": [
    {
     "output_type": "stream",
     "name": "stdout",
     "text": "True\n"
    }
   ],
   "source": [
    "print(left_bool and right_bool)"
   ]
  }
 ],
 "metadata": {
  "language_info": {
   "codemirror_mode": {
    "name": "ipython",
    "version": 3
   },
   "file_extension": ".py",
   "mimetype": "text/x-python",
   "name": "python",
   "nbconvert_exporter": "python",
   "pygments_lexer": "ipython3",
   "version": "3.8.3-final"
  },
  "orig_nbformat": 2,
  "kernelspec": {
   "name": "python38364bitcdf2619920324813be16d94d63cd7955",
   "display_name": "Python 3.8.3 64-bit"
  }
 },
 "nbformat": 4,
 "nbformat_minor": 2
}